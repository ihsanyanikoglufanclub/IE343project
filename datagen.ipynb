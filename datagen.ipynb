{
 "cells": [
  {
   "cell_type": "code",
   "execution_count": 2,
   "metadata": {},
   "outputs": [],
   "source": [
    "import numpy as np\n",
    "import spotipy\n",
    "from spotipy.oauth2 import SpotifyClientCredentials"
   ]
  },
  {
   "cell_type": "code",
   "execution_count": 3,
   "metadata": {},
   "outputs": [],
   "source": [
    "cid = 'Your Client ID'\n",
    "secret = 'Your Client Secret'\n",
    "\n",
    "client_credentials_manager = SpotifyClientCredentials(client_id=cid, client_secret=secret)\n",
    "sp = spotipy.Spotify(client_credentials_manager\n",
    "=\n",
    "client_credentials_manager)\n"
   ]
  },
  {
   "cell_type": "code",
   "execution_count": 4,
   "metadata": {},
   "outputs": [
    {
     "name": "stdout",
     "output_type": "stream",
     "text": [
      "[{'danceability': 0.655, 'energy': 0.187, 'key': 2, 'loudness': -21.36, 'mode': 1, 'speechiness': 0.824, 'acousticness': 0.938, 'instrumentalness': 0, 'liveness': 0.404, 'valence': 0.476, 'tempo': 82.04, 'type': 'audio_features', 'id': '33pjGpdd99HaxvxAOKnGwV', 'uri': 'spotify:track:33pjGpdd99HaxvxAOKnGwV', 'track_href': 'https://api.spotify.com/v1/tracks/33pjGpdd99HaxvxAOKnGwV', 'analysis_url': 'https://api.spotify.com/v1/audio-analysis/33pjGpdd99HaxvxAOKnGwV', 'duration_ms': 83496, 'time_signature': 4}]\n",
      "[46, 44, 43, 39, 33, 38, 40, 30, 40, 30, 42, 42, 39, 36, 39, 41, 23, 37, 38, 25, 35, 34, 39, 25, 19, 32, 31, 30, 28, 21, 29, 22, 28, 27, 19, 26, 26, 24, 17, 12, 18, 22, 19, 22, 25, 16, 24, 19, 21, 21]\n",
      "[151157, 278941, 265833, 278941, 173877, 234812, 200430, 200430, 161704, 234812, 300016, 207846, 173877, 193013, 265833, 151157, 161704, 199263, 214802, 199155, 370152, 202742, 214802, 244600, 193013, 48000, 72000, 63000, 195000, 238293, 208141, 450440, 64000, 58000, 259173, 65000, 162000, 63000, 333813, 71000, 339600, 100000, 107000, 53000, 253000, 352573, 123000, 83000, 50000, 128000]\n"
     ]
    }
   ],
   "source": [
    "artist_name = []\n",
    "track_name = []\n",
    "popularity = []\n",
    "track_id = []\n",
    "duration = []\n",
    "id = '0NSO0g40h9CTj13hKPskeb'\n",
    "artist = sp.artist(id)\n",
    "albums = sp.artist_albums(id)\n",
    "#print(albums)\n",
    "alb = '5UuzlicJ7sCYpVezzHdIHK'\n",
    "album_tracks = sp.album_tracks(alb, limit=50, market='TR')\n",
    "#print(album_tracks)\n",
    "trackid = sp.audio_features('33pjGpdd99HaxvxAOKnGwV')\n",
    "print(trackid)\n",
    "for i in range(0,35,35):\n",
    "    track_results = sp.search(q='year:2022 && artist:\"Ibrahim Maalouf\"', type='track', limit=50,offset=i)\n",
    "    \n",
    "    for i, t in enumerate(track_results['tracks']['items']):\n",
    "        artist_name.append(t['artists'][0]['name'])\n",
    "        track_name.append(t['name'])\n",
    "        track_id.append(t['id'])\n",
    "        popularity.append(t['popularity'])\n",
    "        duration.append(t['duration_ms'])\n",
    "\n",
    "print(popularity)\n",
    "print(duration)"
   ]
  },
  {
   "cell_type": "code",
   "execution_count": 7,
   "metadata": {},
   "outputs": [
    {
     "name": "stdout",
     "output_type": "stream",
     "text": [
      "(50, 5)\n"
     ]
    }
   ],
   "source": [
    "import pandas as pd\n",
    "import csv\n",
    "track_dataframe = pd.DataFrame({'artist_name' : artist_name, 'track_name' : track_name, 'track_id' : track_id, 'popularity' : popularity, 'duration_ms' : duration})\n",
    "print(track_dataframe.shape)\n",
    "track_dataframe.head()\n",
    "track_dataframe.to_csv('term_project_value_data.csv')"
   ]
  },
  {
   "cell_type": "code",
   "execution_count": 65,
   "metadata": {},
   "outputs": [],
   "source": [
    "dataset = np.random.normal(5.5, 1.2, size=(50, 50))\n",
    "for i in range(len(dataset)):\n",
    "        for j in range(len(dataset[0])):\n",
    "                if np.random.random() > 0.2:\n",
    "                        if dataset[i][j] < 10:\n",
    "                                dataset[i][j] = round(dataset[i][j], 2)\n",
    "                        else:\n",
    "                                dataset[i][j] = 10.0\n",
    "                else:\n",
    "                        dataset[i][j] = 0\n",
    "\n",
    "\n",
    "df = pd.DataFrame(dataset)\n",
    "df.head()\n",
    "df.to_csv(\"term_project_sequential_data.csv\")\n",
    "\n"
   ]
  },
  {
   "cell_type": "code",
   "execution_count": null,
   "metadata": {},
   "outputs": [],
   "source": []
  }
 ],
 "metadata": {
  "kernelspec": {
   "display_name": "Python 3.10.2 64-bit",
   "language": "python",
   "name": "python3"
  },
  "language_info": {
   "codemirror_mode": {
    "name": "ipython",
    "version": 3
   },
   "file_extension": ".py",
   "mimetype": "text/x-python",
   "name": "python",
   "nbconvert_exporter": "python",
   "pygments_lexer": "ipython3",
   "version": "3.10.2"
  },
  "orig_nbformat": 4,
  "vscode": {
   "interpreter": {
    "hash": "beedbe2faf2f7048d727558d0bc3221e7eba2a0b921cac4d4771b2feb8f74b30"
   }
  }
 },
 "nbformat": 4,
 "nbformat_minor": 2
}
