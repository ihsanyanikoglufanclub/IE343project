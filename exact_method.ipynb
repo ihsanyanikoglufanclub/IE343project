{
 "cells": [
  {
   "cell_type": "code",
   "execution_count": 2,
   "metadata": {},
   "outputs": [],
   "source": [
    "import gurobipy as gp\n",
    "from gurobipy import GRB\n",
    "import pandas as pd\n",
    "import joblib\n",
    "import numpy as np\n",
    "import csv\n",
    "import time\n"
   ]
  },
  {
   "cell_type": "code",
   "execution_count": 34,
   "metadata": {},
   "outputs": [
    {
     "name": "stdout",
     "output_type": "stream",
     "text": [
      "sum:  1476\n",
      "sumsum:  9412945\n",
      "(50,)\n",
      "Set parameter MIPGap to value 0.01\n",
      "Set parameter TimeLimit to value 1800\n",
      "Gurobi Optimizer version 9.5.1 build v9.5.1rc2 (win64)\n",
      "Thread count: 4 physical cores, 8 logical processors, using up to 8 threads\n",
      "Optimize a model with 1 rows, 50 columns and 50 nonzeros\n",
      "Model fingerprint: 0x3f38b621\n",
      "Variable types: 0 continuous, 50 integer (50 binary)\n",
      "Coefficient statistics:\n",
      "  Matrix range     [5e+04, 5e+05]\n",
      "  Objective range  [1e+01, 5e+01]\n",
      "  Bounds range     [1e+00, 1e+00]\n",
      "  RHS range        [2e+06, 2e+06]\n",
      "Found heuristic solution: objective 313.0000000\n",
      "Presolve time: 0.00s\n",
      "Presolved: 1 rows, 50 columns, 50 nonzeros\n",
      "Variable types: 0 continuous, 50 integer (50 binary)\n",
      "Found heuristic solution: objective 396.0000000\n",
      "\n",
      "Root relaxation: objective 5.367959e+02, 1 iterations, 0.00 seconds (0.00 work units)\n",
      "\n",
      "    Nodes    |    Current Node    |     Objective Bounds      |     Work\n",
      " Expl Unexpl |  Obj  Depth IntInf | Incumbent    BestBd   Gap | It/Node Time\n",
      "\n",
      "     0     0  536.79590    0    1  396.00000  536.79590  35.6%     -    0s\n",
      "H    0     0                     528.0000000  536.79590  1.67%     -    0s\n",
      "H    0     0                     532.0000000  536.79590  0.90%     -    0s\n",
      "\n",
      "Explored 1 nodes (1 simplex iterations) in 0.01 seconds (0.00 work units)\n",
      "Thread count was 8 (of 8 available processors)\n",
      "\n",
      "Solution count 4: 532 528 396 313 \n",
      "\n",
      "Optimal solution found (tolerance 1.00e-02)\n",
      "Best objective 5.320000000000e+02, best bound 5.360000000000e+02, gap 0.7519%\n",
      "Obj: 532\n",
      "runtime:  0.024909496307373047\n",
      "[ 1. -0. -0. -0.  0. -0.  1. -0.  1. -0. -0.  1.  1.  0. -0.  1. -0.  0.\n",
      "  0. -0. -0.  0.  0. -0. -0.  1.  1.  1. -0. -0. -0. -0.  1.  1. -0.  1.\n",
      "  0.  1. -0.  0. -0.  0.  0.  1. -0. -0.  1.  1.  1.  0.]\n"
     ]
    }
   ],
   "source": [
    "start = time.time()\n",
    "df=pd.read_csv(\"term_project_value_data.csv\")\n",
    "weights = df['duration_ms']\n",
    "values = df['popularity']\n",
    "print(\"sum: \", sum(values))\n",
    "print(\"sumsum: \", sum(weights))\n",
    "n = len(values)\n",
    "print(values.shape)\n",
    "m = gp.Model('IE343_Term_Project_22_Fall')\n",
    "m.setParam('MIPGap', 0.01)\n",
    "m.setParam('TimeLimit', 30*60)\n",
    "\n",
    "\n",
    "#1 if item i is included in the knapsack\n",
    "X = m.addVars(n, vtype=GRB.BINARY, name='X')\n",
    "\n",
    "obj =gp.quicksum(values[i]*X[i] for i in range(n))#-(0.02*gp.quicksum(300000-weights[i]*X[i] for i in range(n)))\n",
    "m.setObjective(obj, GRB.MAXIMIZE)\n",
    "m.addConstr(gp.quicksum(weights[i]*X[i] for i in range(n)) <= 1800000 ,\"cons1\")\n",
    "m.optimize()\n",
    "print('Obj: %g' % m.ObjVal)\n",
    "end = time.time()\n",
    "print(\"runtime: \", end-start)\n",
    "k=m.getAttr('x', X)\n",
    "x_list = np.zeros(shape = (n))\n",
    "for i in range(n):\n",
    "        x_list[i] = X[i].X\n",
    "print(x_list)\n"
   ]
  }
 ],
 "metadata": {
  "kernelspec": {
   "display_name": "Python 3.10.2 64-bit",
   "language": "python",
   "name": "python3"
  },
  "language_info": {
   "codemirror_mode": {
    "name": "ipython",
    "version": 3
   },
   "file_extension": ".py",
   "mimetype": "text/x-python",
   "name": "python",
   "nbconvert_exporter": "python",
   "pygments_lexer": "ipython3",
   "version": "3.10.2"
  },
  "orig_nbformat": 4,
  "vscode": {
   "interpreter": {
    "hash": "beedbe2faf2f7048d727558d0bc3221e7eba2a0b921cac4d4771b2feb8f74b30"
   }
  }
 },
 "nbformat": 4,
 "nbformat_minor": 2
}
